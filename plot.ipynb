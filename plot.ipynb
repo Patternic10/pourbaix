{
 "cells": [
  {
   "cell_type": "code",
   "execution_count": 1,
   "id": "9ca81651",
   "metadata": {},
   "outputs": [
    {
     "data": {
      "text/plain": [
       "'pourbaix_flowchart.png'"
      ]
     },
     "execution_count": 1,
     "metadata": {},
     "output_type": "execute_result"
    }
   ],
   "source": [
    "import graphviz\n",
    "dot = graphviz.Digraph()\n",
    "dot.node('A', 'Input Chemical System\\n(e.g., Fe-O-H, [Fe²⁺]=10⁻⁶ M)')\n",
    "dot.node('B', 'Collect DFT Data\\nΔE_f,0K for Solids')\n",
    "dot.node('C', 'Collect Aqueous Data\\nΔG_f°(298 K)')\n",
    "# Add remaining nodes and edges from the DOT code\n",
    "dot.render('pourbaix_flowchart', format='png', view=True)"
   ]
  },
  {
   "cell_type": "code",
   "execution_count": 1,
   "id": "bd2368d0",
   "metadata": {},
   "outputs": [
    {
     "data": {
      "text/plain": [
       "'PourbaixFlowchart.png'"
      ]
     },
     "execution_count": 1,
     "metadata": {},
     "output_type": "execute_result"
    }
   ],
   "source": [
    "from graphviz import Digraph\n",
    "\n",
    "# Create directed graph\n",
    "flowchart = Digraph('PourbaixFlowchart', format='png')\n",
    "flowchart.attr(rankdir='TB')\n",
    "flowchart.attr('node', shape='box')\n",
    "\n",
    "# Add nodes\n",
    "flowchart.node('A', \"Input Chemical System\\n(e.g., Fe-O-H, [Fe²⁺]=10⁻⁶ M)\")\n",
    "flowchart.node('B', \"Collect DFT Data\\nΔE_f,0K for Solids (Fe, Fe₂O₃)\")\n",
    "flowchart.node('C', \"Collect Aqueous Data\\nΔG_f°(298 K) for Fe²⁺, H₂O\")\n",
    "flowchart.node('D', \"Adjust DFT to STP\\nΔG_f°(298 K) with μ_O₂ fit\")\n",
    "flowchart.node('E', \"Adjust for Non-STP?\\n(e.g., 373 K)\")\n",
    "flowchart.node('F', \"Update ΔG_f°(T)\\nUse ΔH_f°, ΔS°, C_p\")\n",
    "flowchart.node('G', \"Calculate ΔG(pH, E)\\nFor All Phases\")\n",
    "flowchart.node('H', \"Determine Stable Phases\\nSolve ΔG_i = ΔG_j\")\n",
    "flowchart.node('I', \"Generate Pourbaix Diagram\\nPlot with pymatgen\")\n",
    "\n",
    "# Add edges\n",
    "flowchart.edges(['AB', 'AC', 'BD', 'CG', 'DE'])\n",
    "flowchart.edge('E', 'F', label='Yes')\n",
    "flowchart.edge('E', 'G', label='No')\n",
    "flowchart.edges(['FG', 'GH', 'HI'])\n",
    "\n",
    "# Save and render\n",
    "flowchart.render('PourbaixFlowchart', view=True)"
   ]
  }
 ],
 "metadata": {
  "kernelspec": {
   "display_name": "material",
   "language": "python",
   "name": "python3"
  },
  "language_info": {
   "codemirror_mode": {
    "name": "ipython",
    "version": 3
   },
   "file_extension": ".py",
   "mimetype": "text/x-python",
   "name": "python",
   "nbconvert_exporter": "python",
   "pygments_lexer": "ipython3",
   "version": "3.12.2"
  }
 },
 "nbformat": 4,
 "nbformat_minor": 5
}
